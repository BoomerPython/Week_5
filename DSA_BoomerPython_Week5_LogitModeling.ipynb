{
  "nbformat": 4,
  "nbformat_minor": 0,
  "metadata": {
    "colab": {
      "name": "DSA_BoomerPython_Week5_LogitModeling.ipynb",
      "provenance": [],
      "toc_visible": true,
      "authorship_tag": "ABX9TyPLjuLXcFeGbvijNJxzF2WL",
      "include_colab_link": true
    },
    "kernelspec": {
      "name": "python3",
      "display_name": "Python 3"
    },
    "language_info": {
      "name": "python"
    }
  },
  "cells": [
    {
      "cell_type": "markdown",
      "metadata": {
        "id": "view-in-github",
        "colab_type": "text"
      },
      "source": [
        "<a href=\"https://colab.research.google.com/github/BoomerPython/Week_5/blob/main/DSA_BoomerPython_Week5_LogitModeling.ipynb\" target=\"_parent\"><img src=\"https://colab.research.google.com/assets/colab-badge.svg\" alt=\"Open In Colab\"/></a>"
      ]
    },
    {
      "cell_type": "code",
      "metadata": {
        "id": "Bde0Rr7JHYrZ"
      },
      "source": [
        "# import packages for analysis and modeling\n",
        "import pandas as pd  # data frame operations\n",
        "import numpy as np  # arrays and math functions\n",
        "\n",
        "from sklearn import metrics\n",
        "from sklearn.linear_model import LogisticRegression\n",
        "from sklearn.metrics import log_loss, roc_auc_score, recall_score, precision_score, average_precision_score, f1_score, classification_report, accuracy_score, plot_roc_curve, plot_precision_recall_curve, plot_confusion_matrix\n",
        "from sklearn.model_selection import train_test_split\n",
        "\n",
        "import matplotlib.pyplot as plt  # 2D plotting\n",
        "import seaborn as sns  # PROVIDES TRELLIS AND SMALL MULTIPLE PLOTTING"
      ],
      "execution_count": 2,
      "outputs": []
    },
    {
      "cell_type": "markdown",
      "metadata": {
        "id": "jGaidUZDHmzI"
      },
      "source": [
        "# Obtain and Scrub the Data"
      ]
    },
    {
      "cell_type": "code",
      "metadata": {
        "colab": {
          "base_uri": "https://localhost:8080/",
          "height": 346
        },
        "id": "ZiuX3_QpJG4L",
        "outputId": "ec1e05c3-2964-435d-b182-78fbbd0676b7"
      },
      "source": [
        "# OBTAIN\n",
        "\n",
        "sales = pd.read_csv('https://raw.githubusercontent.com/BoomerPython/Week_5/main/SustainableSalesProducts.csv')\n",
        "sales.head()"
      ],
      "execution_count": 3,
      "outputs": [
        {
          "output_type": "execute_result",
          "data": {
            "text/html": [
              "<div>\n",
              "<style scoped>\n",
              "    .dataframe tbody tr th:only-of-type {\n",
              "        vertical-align: middle;\n",
              "    }\n",
              "\n",
              "    .dataframe tbody tr th {\n",
              "        vertical-align: top;\n",
              "    }\n",
              "\n",
              "    .dataframe thead th {\n",
              "        text-align: right;\n",
              "    }\n",
              "</style>\n",
              "<table border=\"1\" class=\"dataframe\">\n",
              "  <thead>\n",
              "    <tr style=\"text-align: right;\">\n",
              "      <th></th>\n",
              "      <th>Country</th>\n",
              "      <th>OrderMethod</th>\n",
              "      <th>RetailerType</th>\n",
              "      <th>ProductLine</th>\n",
              "      <th>ProductType</th>\n",
              "      <th>Product</th>\n",
              "      <th>Year</th>\n",
              "      <th>Quarter</th>\n",
              "      <th>SustainableClaim</th>\n",
              "      <th>SustainableMarketing</th>\n",
              "      <th>Revenue</th>\n",
              "      <th>Quantity</th>\n",
              "      <th>GrossMargin</th>\n",
              "    </tr>\n",
              "  </thead>\n",
              "  <tbody>\n",
              "    <tr>\n",
              "      <th>0</th>\n",
              "      <td>United States</td>\n",
              "      <td>Fax</td>\n",
              "      <td>Outdoors Shop</td>\n",
              "      <td>Camping Equipment</td>\n",
              "      <td>Cooking Gear</td>\n",
              "      <td>TrailChef Deluxe Cook Set</td>\n",
              "      <td>2012</td>\n",
              "      <td>Q1 2012</td>\n",
              "      <td>1</td>\n",
              "      <td>0</td>\n",
              "      <td>59628.66</td>\n",
              "      <td>489</td>\n",
              "      <td>0.347548</td>\n",
              "    </tr>\n",
              "    <tr>\n",
              "      <th>1</th>\n",
              "      <td>United States</td>\n",
              "      <td>Fax</td>\n",
              "      <td>Outdoors Shop</td>\n",
              "      <td>Camping Equipment</td>\n",
              "      <td>Cooking Gear</td>\n",
              "      <td>TrailChef Double Flame</td>\n",
              "      <td>2012</td>\n",
              "      <td>Q1 2012</td>\n",
              "      <td>0</td>\n",
              "      <td>1</td>\n",
              "      <td>35950.32</td>\n",
              "      <td>252</td>\n",
              "      <td>0.474274</td>\n",
              "    </tr>\n",
              "    <tr>\n",
              "      <th>2</th>\n",
              "      <td>United States</td>\n",
              "      <td>Fax</td>\n",
              "      <td>Outdoors Shop</td>\n",
              "      <td>Camping Equipment</td>\n",
              "      <td>Tents</td>\n",
              "      <td>Star Dome</td>\n",
              "      <td>2012</td>\n",
              "      <td>Q1 2012</td>\n",
              "      <td>1</td>\n",
              "      <td>0</td>\n",
              "      <td>89940.48</td>\n",
              "      <td>147</td>\n",
              "      <td>0.352772</td>\n",
              "    </tr>\n",
              "    <tr>\n",
              "      <th>3</th>\n",
              "      <td>United States</td>\n",
              "      <td>Fax</td>\n",
              "      <td>Outdoors Shop</td>\n",
              "      <td>Camping Equipment</td>\n",
              "      <td>Tents</td>\n",
              "      <td>Star Gazer 2</td>\n",
              "      <td>2012</td>\n",
              "      <td>Q1 2012</td>\n",
              "      <td>1</td>\n",
              "      <td>0</td>\n",
              "      <td>165883.41</td>\n",
              "      <td>303</td>\n",
              "      <td>0.282938</td>\n",
              "    </tr>\n",
              "    <tr>\n",
              "      <th>4</th>\n",
              "      <td>United States</td>\n",
              "      <td>Fax</td>\n",
              "      <td>Outdoors Shop</td>\n",
              "      <td>Camping Equipment</td>\n",
              "      <td>Sleeping Bags</td>\n",
              "      <td>Hibernator Lite</td>\n",
              "      <td>2012</td>\n",
              "      <td>Q1 2012</td>\n",
              "      <td>1</td>\n",
              "      <td>0</td>\n",
              "      <td>119822.20</td>\n",
              "      <td>1415</td>\n",
              "      <td>0.291450</td>\n",
              "    </tr>\n",
              "  </tbody>\n",
              "</table>\n",
              "</div>"
            ],
            "text/plain": [
              "         Country OrderMethod   RetailerType  ...    Revenue Quantity GrossMargin\n",
              "0  United States         Fax  Outdoors Shop  ...   59628.66      489    0.347548\n",
              "1  United States         Fax  Outdoors Shop  ...   35950.32      252    0.474274\n",
              "2  United States         Fax  Outdoors Shop  ...   89940.48      147    0.352772\n",
              "3  United States         Fax  Outdoors Shop  ...  165883.41      303    0.282938\n",
              "4  United States         Fax  Outdoors Shop  ...  119822.20     1415    0.291450\n",
              "\n",
              "[5 rows x 13 columns]"
            ]
          },
          "metadata": {
            "tags": []
          },
          "execution_count": 3
        }
      ]
    },
    {
      "cell_type": "code",
      "metadata": {
        "colab": {
          "base_uri": "https://localhost:8080/",
          "height": 329
        },
        "id": "rsiC8VidJWQ0",
        "outputId": "e33ea89f-c274-4b68-826d-74730e84baa5"
      },
      "source": [
        "# SCRUB - just look at one country's data\n",
        "\n",
        "df = sales[sales.Country == \"Japan\"]\n",
        "df.head()"
      ],
      "execution_count": 5,
      "outputs": [
        {
          "output_type": "execute_result",
          "data": {
            "text/html": [
              "<div>\n",
              "<style scoped>\n",
              "    .dataframe tbody tr th:only-of-type {\n",
              "        vertical-align: middle;\n",
              "    }\n",
              "\n",
              "    .dataframe tbody tr th {\n",
              "        vertical-align: top;\n",
              "    }\n",
              "\n",
              "    .dataframe thead th {\n",
              "        text-align: right;\n",
              "    }\n",
              "</style>\n",
              "<table border=\"1\" class=\"dataframe\">\n",
              "  <thead>\n",
              "    <tr style=\"text-align: right;\">\n",
              "      <th></th>\n",
              "      <th>Country</th>\n",
              "      <th>OrderMethod</th>\n",
              "      <th>RetailerType</th>\n",
              "      <th>ProductLine</th>\n",
              "      <th>ProductType</th>\n",
              "      <th>Product</th>\n",
              "      <th>Year</th>\n",
              "      <th>Quarter</th>\n",
              "      <th>SustainableClaim</th>\n",
              "      <th>SustainableMarketing</th>\n",
              "      <th>Revenue</th>\n",
              "      <th>Quantity</th>\n",
              "      <th>GrossMargin</th>\n",
              "    </tr>\n",
              "  </thead>\n",
              "  <tbody>\n",
              "    <tr>\n",
              "      <th>2146</th>\n",
              "      <td>Japan</td>\n",
              "      <td>Fax</td>\n",
              "      <td>Outdoors Shop</td>\n",
              "      <td>Camping Equipment</td>\n",
              "      <td>Cooking Gear</td>\n",
              "      <td>TrailChef Water Bag</td>\n",
              "      <td>2012</td>\n",
              "      <td>Q1 2012</td>\n",
              "      <td>0</td>\n",
              "      <td>1</td>\n",
              "      <td>28009.45</td>\n",
              "      <td>7091</td>\n",
              "      <td>0.465823</td>\n",
              "    </tr>\n",
              "    <tr>\n",
              "      <th>2147</th>\n",
              "      <td>Japan</td>\n",
              "      <td>Fax</td>\n",
              "      <td>Outdoors Shop</td>\n",
              "      <td>Camping Equipment</td>\n",
              "      <td>Cooking Gear</td>\n",
              "      <td>TrailChef Utensils</td>\n",
              "      <td>2012</td>\n",
              "      <td>Q1 2012</td>\n",
              "      <td>0</td>\n",
              "      <td>1</td>\n",
              "      <td>17954.11</td>\n",
              "      <td>957</td>\n",
              "      <td>0.466974</td>\n",
              "    </tr>\n",
              "    <tr>\n",
              "      <th>2148</th>\n",
              "      <td>Japan</td>\n",
              "      <td>Fax</td>\n",
              "      <td>Outdoors Shop</td>\n",
              "      <td>Camping Equipment</td>\n",
              "      <td>Lanterns</td>\n",
              "      <td>Firefly Extreme</td>\n",
              "      <td>2012</td>\n",
              "      <td>Q1 2012</td>\n",
              "      <td>1</td>\n",
              "      <td>1</td>\n",
              "      <td>7504.70</td>\n",
              "      <td>151</td>\n",
              "      <td>0.434205</td>\n",
              "    </tr>\n",
              "    <tr>\n",
              "      <th>2149</th>\n",
              "      <td>Japan</td>\n",
              "      <td>Fax</td>\n",
              "      <td>Outdoors Shop</td>\n",
              "      <td>Camping Equipment</td>\n",
              "      <td>Lanterns</td>\n",
              "      <td>EverGlow Single</td>\n",
              "      <td>2012</td>\n",
              "      <td>Q1 2012</td>\n",
              "      <td>0</td>\n",
              "      <td>1</td>\n",
              "      <td>15638.70</td>\n",
              "      <td>462</td>\n",
              "      <td>0.467061</td>\n",
              "    </tr>\n",
              "    <tr>\n",
              "      <th>2150</th>\n",
              "      <td>Japan</td>\n",
              "      <td>Fax</td>\n",
              "      <td>Outdoors Shop</td>\n",
              "      <td>Mountaineering Equipment</td>\n",
              "      <td>Rope</td>\n",
              "      <td>Husky Rope 50</td>\n",
              "      <td>2012</td>\n",
              "      <td>Q1 2012</td>\n",
              "      <td>1</td>\n",
              "      <td>0</td>\n",
              "      <td>19401.60</td>\n",
              "      <td>129</td>\n",
              "      <td>0.329056</td>\n",
              "    </tr>\n",
              "  </tbody>\n",
              "</table>\n",
              "</div>"
            ],
            "text/plain": [
              "     Country OrderMethod   RetailerType  ...   Revenue Quantity GrossMargin\n",
              "2146   Japan         Fax  Outdoors Shop  ...  28009.45     7091    0.465823\n",
              "2147   Japan         Fax  Outdoors Shop  ...  17954.11      957    0.466974\n",
              "2148   Japan         Fax  Outdoors Shop  ...   7504.70      151    0.434205\n",
              "2149   Japan         Fax  Outdoors Shop  ...  15638.70      462    0.467061\n",
              "2150   Japan         Fax  Outdoors Shop  ...  19401.60      129    0.329056\n",
              "\n",
              "[5 rows x 13 columns]"
            ]
          },
          "metadata": {
            "tags": []
          },
          "execution_count": 5
        }
      ]
    },
    {
      "cell_type": "code",
      "metadata": {
        "id": "vGDkquIdKNoe"
      },
      "source": [
        "# SCRUB - Prepare Data for Modeling\n",
        "\n",
        "# Establish your features - or independent variables\n",
        "x = df[['Revenue','Quantity']]\n",
        "\n",
        "# Establish your response variable - target\n",
        "y = df['SustainableClaim']\n",
        "\n",
        "# There are many ways to split data - this is one\n",
        "x_train, x_test, y_train, y_test = train_test_split(x, y, test_size = 0.3)  # \n"
      ],
      "execution_count": 6,
      "outputs": []
    },
    {
      "cell_type": "markdown",
      "metadata": {
        "id": "ytDe0j_2Hn7P"
      },
      "source": [
        "# Exploratory Data Analysis"
      ]
    },
    {
      "cell_type": "markdown",
      "metadata": {
        "id": "HFwrIFhJKTFo"
      },
      "source": [
        "This section is left for the student to consider - what graphics should you build?"
      ]
    },
    {
      "cell_type": "markdown",
      "metadata": {
        "id": "XJJ56w6EHv_X"
      },
      "source": [
        "# Modeling"
      ]
    },
    {
      "cell_type": "code",
      "metadata": {
        "colab": {
          "base_uri": "https://localhost:8080/"
        },
        "id": "O1hBcZ9sJxIS",
        "outputId": "3c465a1f-6e48-4dbf-ee61-329a039930e3"
      },
      "source": [
        "# MODEL\n",
        "\n",
        "# Building logistic model\n",
        "model = LogisticRegression()\n",
        "\n",
        "# Using training data to train the model\n",
        "model.fit(x_train, y_train)"
      ],
      "execution_count": 7,
      "outputs": [
        {
          "output_type": "execute_result",
          "data": {
            "text/plain": [
              "LogisticRegression(C=1.0, class_weight=None, dual=False, fit_intercept=True,\n",
              "                   intercept_scaling=1, l1_ratio=None, max_iter=100,\n",
              "                   multi_class='auto', n_jobs=None, penalty='l2',\n",
              "                   random_state=None, solver='lbfgs', tol=0.0001, verbose=0,\n",
              "                   warm_start=False)"
            ]
          },
          "metadata": {
            "tags": []
          },
          "execution_count": 7
        }
      ]
    },
    {
      "cell_type": "markdown",
      "metadata": {
        "id": "n0a_EKYyHzMX"
      },
      "source": [
        "# Looking at Model Performance"
      ]
    },
    {
      "cell_type": "code",
      "metadata": {
        "colab": {
          "base_uri": "https://localhost:8080/",
          "height": 297
        },
        "id": "GdW1q_TYKgks",
        "outputId": "759e9c76-c30c-4483-a3b2-d1e98c87a99f"
      },
      "source": [
        "# MODEL - Two ways to look at model performance\n",
        "\n",
        "# Score method - Compare test vs actual\n",
        "score = model.score(x_test, y_test)\n",
        "print('Accuracy = ',score)\n",
        "\n",
        "# Receiver Operating Charactersitc (ROC) curve\n",
        "plot_roc_curve(model, x_test, y_test)\n",
        "plt.show()"
      ],
      "execution_count": 8,
      "outputs": [
        {
          "output_type": "stream",
          "text": [
            "Accuracy =  0.6349502487562189\n"
          ],
          "name": "stdout"
        },
        {
          "output_type": "display_data",
          "data": {
            "image/png": "[encoded data removed]",
            "text/plain": [
              "<Figure size 432x288 with 1 Axes>"
            ]
          },
          "metadata": {
            "tags": [],
            "needs_background": "light"
          }
        }
      ]
    },
    {
      "cell_type": "code",
      "metadata": {
        "colab": {
          "base_uri": "https://localhost:8080/"
        },
        "id": "lE2NSJH5K5W6",
        "outputId": "d8fedaae-437b-4225-f646-8e4e23bcdeb8"
      },
      "source": [
        "#MODEL - Additional metrics\n",
        "predictions = model.predict(x_test)\n",
        "\n",
        "# Setting up to print the results\n",
        "test_prob = model.predict_proba(x_test)[:, 1]\n",
        "test_pred = model.predict(x_test)\n",
        "\n",
        "print('Log loss          = {:.5f}'.format(log_loss(y_test, test_prob)))\n",
        "print('AUC               = {:.5f}'.format(roc_auc_score(y_test, test_prob)))\n",
        "print('Average Precision = {:.5f}'.format(average_precision_score(y_test, test_prob)))\n",
        "print('\\nUsing 0.5 as threshold:')\n",
        "print('Accuracy  = {:.5f}'.format(accuracy_score(y_test, predictions)))\n",
        "print('Precision = {:.5f}'.format(precision_score(y_test, predictions)))\n",
        "print('Recall    = {:.5f}'.format(recall_score(y_test, predictions)))\n",
        "print('F1 score  = {:.5f}'.format(f1_score(y_test, predictions)))\n",
        "\n",
        "print('\\nClassification Report')\n",
        "print(classification_report(y_test, predictions))"
      ],
      "execution_count": 10,
      "outputs": [
        {
          "output_type": "stream",
          "text": [
            "Log loss = 0.67520\n",
            "AUC      = 0.66638\n",
            "Average Precision = 0.61437\n",
            "\n",
            "Using 0.5 as threshold:\n",
            "Accuracy  = 0.63495\n",
            "Precision = 0.58678\n",
            "Recall    = 0.89084\n",
            "F1 score  = 0.70752\n",
            "\n",
            "Classification Report\n",
            "              precision    recall  f1-score   support\n",
            "\n",
            "           0       0.78      0.38      0.51       811\n",
            "           1       0.59      0.89      0.71       797\n",
            "\n",
            "    accuracy                           0.63      1608\n",
            "   macro avg       0.68      0.64      0.61      1608\n",
            "weighted avg       0.68      0.63      0.61      1608\n",
            "\n"
          ],
          "name": "stdout"
        }
      ]
    },
    {
      "cell_type": "code",
      "metadata": {
        "colab": {
          "base_uri": "https://localhost:8080/",
          "height": 298
        },
        "id": "x5l5ZO8ULNIU",
        "outputId": "dc163007-16f9-4980-a932-941ebb3339e9"
      },
      "source": [
        "# MODEL - Confusion matrix\n",
        "cm = metrics.confusion_matrix(y_test, predictions)\n",
        "\n",
        "plot_confusion_matrix(model, x_test, y_test, cmap='gray')\n",
        "plt.show()\n",
        "\n",
        "print('Accuracy =', score)\n"
      ],
      "execution_count": 12,
      "outputs": [
        {
          "output_type": "display_data",
          "data": {
            "image/png": "[encoded data removed]",
            "text/plain": [
              "<Figure size 432x288 with 2 Axes>"
            ]
          },
          "metadata": {
            "tags": [],
            "needs_background": "light"
          }
        },
        {
          "output_type": "stream",
          "text": [
            "Accuracy = 0.6349502487562189\n"
          ],
          "name": "stdout"
        }
      ]
    }
  ]
}